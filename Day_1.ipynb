{
  "nbformat": 4,
  "nbformat_minor": 0,
  "metadata": {
    "colab": {
      "provenance": [],
      "authorship_tag": "ABX9TyOvGtr+fww+GkS55FKCuQ3E",
      "include_colab_link": true
    },
    "kernelspec": {
      "name": "python3",
      "display_name": "Python 3"
    },
    "language_info": {
      "name": "python"
    }
  },
  "cells": [
    {
      "cell_type": "markdown",
      "metadata": {
        "id": "view-in-github",
        "colab_type": "text"
      },
      "source": [
        "<a href=\"https://colab.research.google.com/github/davidcohen863/dotfiles/blob/master/Day_1.ipynb\" target=\"_parent\"><img src=\"https://colab.research.google.com/assets/colab-badge.svg\" alt=\"Open In Colab\"/></a>"
      ]
    },
    {
      "cell_type": "code",
      "execution_count": 2,
      "metadata": {
        "colab": {
          "base_uri": "https://localhost:8080/"
        },
        "id": "e61SQx21-8th",
        "outputId": "62da5039-1e64-4035-d30a-c0c35996d169"
      },
      "outputs": [
        {
          "output_type": "stream",
          "name": "stdout",
          "text": [
            "Hello World\n"
          ]
        }
      ],
      "source": [
        "print(\"Hello World\")"
      ]
    },
    {
      "cell_type": "code",
      "source": [
        "age = 27"
      ],
      "metadata": {
        "id": "D_8Rd5dQ_LkQ"
      },
      "execution_count": 3,
      "outputs": []
    },
    {
      "cell_type": "code",
      "source": [
        "height_m = 1.83"
      ],
      "metadata": {
        "id": "O13V7n0y_MhA"
      },
      "execution_count": 5,
      "outputs": []
    },
    {
      "cell_type": "code",
      "source": [
        "name = \"David\""
      ],
      "metadata": {
        "id": "XCi8bAOy_QP0"
      },
      "execution_count": 7,
      "outputs": []
    },
    {
      "cell_type": "code",
      "source": [
        "is_learning = True"
      ],
      "metadata": {
        "id": "UYplnupF_TJZ"
      },
      "execution_count": 9,
      "outputs": []
    },
    {
      "cell_type": "code",
      "source": [
        "print(type(age), type(height_m), type(name), type(is_learning))"
      ],
      "metadata": {
        "colab": {
          "base_uri": "https://localhost:8080/"
        },
        "id": "c_g2B4Fr_WXW",
        "outputId": "794d0e01-e3cf-49b9-8e67-158de01572a7"
      },
      "execution_count": 11,
      "outputs": [
        {
          "output_type": "stream",
          "name": "stdout",
          "text": [
            "<class 'int'> <class 'float'> <class 'str'> <class 'bool'>\n"
          ]
        }
      ]
    },
    {
      "cell_type": "code",
      "source": [
        "a, b = 10, 3\n",
        "print(\"add:\", a + b)\n",
        "print(\"sub:\", a - b)\n",
        "print(\"mul:\", a * b)\n",
        "print(\"true division:\", a / b)\n",
        "print(\"floor division:\", a // b)\n",
        "print(\"modulo:\", a % b)\n",
        "print(\"power:\", a ** b)\n"
      ],
      "metadata": {
        "colab": {
          "base_uri": "https://localhost:8080/"
        },
        "id": "djRHasSR_Zsx",
        "outputId": "7683427d-8371-430a-8c85-ab0acb8af7a2"
      },
      "execution_count": 12,
      "outputs": [
        {
          "output_type": "stream",
          "name": "stdout",
          "text": [
            "add: 13\n",
            "sub: 7\n",
            "mul: 30\n",
            "true division: 3.3333333333333335\n",
            "floor division: 3\n",
            "modulo: 1\n",
            "power: 1000\n"
          ]
        }
      ]
    },
    {
      "cell_type": "code",
      "source": [
        "user_name = input(\"What is your name? \")\n",
        "fav_num = int(input(\"Pick a number: \"))\n",
        "print(f\"Nice to meet you, {user_name}. {fav_num} squared is {fav_num**2}.\")\n"
      ],
      "metadata": {
        "colab": {
          "base_uri": "https://localhost:8080/"
        },
        "id": "gCn6X7iM_cbl",
        "outputId": "ba8308a6-09a4-468c-bec8-62db893b68fa"
      },
      "execution_count": 14,
      "outputs": [
        {
          "output_type": "stream",
          "name": "stdout",
          "text": [
            "What is your name? Yuvalibooboo\n",
            "Pick a number: 3\n",
            "Nice to meet you, Yuvalibooboo. 3 squared is 9.\n"
          ]
        }
      ]
    },
    {
      "cell_type": "code",
      "source": [],
      "metadata": {
        "id": "uSsGdIKQ_je-"
      },
      "execution_count": null,
      "outputs": []
    }
  ]
}